{
 "cells": [
  {
   "cell_type": "code",
   "execution_count": 27,
   "metadata": {},
   "outputs": [
    {
     "name": "stdout",
     "output_type": "stream",
     "text": [
      "* \n",
      "* * \n",
      "* * * \n",
      "* * * * \n",
      "* * * * * \n",
      "* * * * \n",
      "* * * \n",
      "* * \n",
      "* \n"
     ]
    }
   ],
   "source": [
    "#question 1 \n",
    "n= 5\n",
    "for i in range(5):\n",
    "    for j in range(i+1):\n",
    "        print(\"*\", end= \" \")\n",
    "    print()\n",
    "for b in range(4):\n",
    "    for d in range(b,4):\n",
    "        print(\"*\", end= \" \")\n",
    "    print()\n",
    "\n",
    "    \n",
    "    "
   ]
  },
  {
   "cell_type": "code",
   "execution_count": 32,
   "metadata": {},
   "outputs": [
    {
     "name": "stdout",
     "output_type": "stream",
     "text": [
      "please enter a word to check its reverse  Aastha\n",
      "reverse word is  ahtsaA\n"
     ]
    }
   ],
   "source": [
    "#question 2 reverse a word\n",
    "word = input(\"please enter a word to check its reverse  \")\n",
    "print(A\"reverse word is \",word[::-1])"
   ]
  }
 ],
 "metadata": {
  "kernelspec": {
   "display_name": "Python 3",
   "language": "python",
   "name": "python3"
  },
  "language_info": {
   "codemirror_mode": {
    "name": "ipython",
    "version": 3
   },
   "file_extension": ".py",
   "mimetype": "text/x-python",
   "name": "python",
   "nbconvert_exporter": "python",
   "pygments_lexer": "ipython3",
   "version": "3.8.5"
  }
 },
 "nbformat": 4,
 "nbformat_minor": 4
}
